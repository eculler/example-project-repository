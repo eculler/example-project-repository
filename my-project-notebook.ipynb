{
 "cells": [
  {
   "cell_type": "markdown",
   "id": "1afa4b40-0c1f-440c-803f-ceffb0f0044d",
   "metadata": {},
   "source": [
    "# My Awesome Project\n",
    "\n",
    "![Dolphins](https://media.npr.org/assets/img/2018/04/19/gettyimages-487926161_custom-d78dfee66417c0af3753254a794a6cc7388ee8c1-s1600-c85.webp)\n",
    "\n",
    "> Image source: https://www.npr.org/sections/thetwo-way/2018/04/19/604112728/bottlenose-dolphins-spotted-off-canadas-pacific-coast-for-the-first-time"
   ]
  },
  {
   "cell_type": "code",
   "execution_count": 1,
   "id": "c92fbc77-24bf-40dd-b1da-dfc2d4b79bf8",
   "metadata": {
    "tags": []
   },
   "outputs": [
    {
     "name": "stdout",
     "output_type": "stream",
     "text": [
      "Hello World!\n"
     ]
    }
   ],
   "source": [
    "# Hello World!\n",
    "print('Hello World!')"
   ]
  }
 ],
 "metadata": {
  "kernelspec": {
   "display_name": "Python 3 (ipykernel)",
   "language": "python",
   "name": "python3"
  },
  "language_info": {
   "codemirror_mode": {
    "name": "ipython",
    "version": 3
   },
   "file_extension": ".py",
   "mimetype": "text/x-python",
   "name": "python",
   "nbconvert_exporter": "python",
   "pygments_lexer": "ipython3",
   "version": "3.10.4"
  }
 },
 "nbformat": 4,
 "nbformat_minor": 5
}
